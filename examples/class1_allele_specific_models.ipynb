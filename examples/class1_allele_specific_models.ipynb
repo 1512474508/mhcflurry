{
 "cells": [
  {
   "cell_type": "code",
   "execution_count": 1,
   "metadata": {
    "collapsed": false
   },
   "outputs": [
    {
     "name": "stderr",
     "output_type": "stream",
     "text": [
      "Using Theano backend.\n",
      "/Users/tim/miniconda3/envs/py3k/lib/python3.5/site-packages/matplotlib/__init__.py:872: UserWarning: axes.color_cycle is deprecated and replaced with axes.prop_cycle; please use the latter.\n",
      "  warnings.warn(self.msg_depr % (key, alt_key))\n",
      "/Users/tim/miniconda3/envs/py3k/lib/python3.5/site-packages/sklearn/cross_validation.py:44: DeprecationWarning: This module was deprecated in version 0.18 in favor of the model_selection module into which all the refactored classes and functions are moved. Also note that the interface of the new CV iterators are different from that of this module. This module will be removed in 0.20.\n",
      "  \"This module will be removed in 0.20.\", DeprecationWarning)\n"
     ]
    }
   ],
   "source": [
    "import mhcflurry\n",
    "import numpy\n",
    "import seaborn\n",
    "import logging\n",
    "from matplotlib import pyplot\n",
    "\n",
    "% matplotlib inline\n",
    "logging.basicConfig(level=\"DEBUG\")\n"
   ]
  },
  {
   "cell_type": "markdown",
   "metadata": {},
   "source": [
    "# Making predictions\n",
    "Note: if you haven't already, run `mhcflurry-downloads fetch` in a shell to download the trained models."
   ]
  },
  {
   "cell_type": "markdown",
   "metadata": {},
   "source": [
    "## Simplest way to run predictions: `mhcflurry.predict()`"
   ]
  },
  {
   "cell_type": "code",
   "execution_count": 2,
   "metadata": {
    "collapsed": false
   },
   "outputs": [
    {
     "name": "stdout",
     "output_type": "stream",
     "text": [
      "Help on function predict in module mhcflurry.predict:\n",
      "\n",
      "predict(alleles, peptides, predictor=None)\n",
      "    Make predictions across all combinations of the specified alleles and\n",
      "    peptides.\n",
      "    \n",
      "    Parameters\n",
      "    ----------\n",
      "    alleles : list of str\n",
      "        Names of alleles to make predictions for.\n",
      "    \n",
      "    peptides : list of str\n",
      "        Peptide amino acid sequences.\n",
      "    \n",
      "    predictor : Predictor to use. Defaults to downloaded Class1SingleModelMultiAllelePredictor.\n",
      "    \n",
      "    Returns DataFrame with columns \"Allele\", \"Peptide\", and \"Prediction\"\n",
      "\n"
     ]
    }
   ],
   "source": [
    "help(mhcflurry.predict)"
   ]
  },
  {
   "cell_type": "code",
   "execution_count": 3,
   "metadata": {
    "collapsed": false
   },
   "outputs": [
    {
     "data": {
      "text/html": [
       "<div>\n",
       "<table border=\"1\" class=\"dataframe\">\n",
       "  <thead>\n",
       "    <tr style=\"text-align: right;\">\n",
       "      <th></th>\n",
       "      <th>Allele</th>\n",
       "      <th>Peptide</th>\n",
       "      <th>Prediction</th>\n",
       "    </tr>\n",
       "  </thead>\n",
       "  <tbody>\n",
       "    <tr>\n",
       "      <th>0</th>\n",
       "      <td>HLA-A0201</td>\n",
       "      <td>SIINFEKL</td>\n",
       "      <td>10672.347656</td>\n",
       "    </tr>\n",
       "    <tr>\n",
       "      <th>1</th>\n",
       "      <td>HLA-A0201</td>\n",
       "      <td>SIINFEQL</td>\n",
       "      <td>7828.974121</td>\n",
       "    </tr>\n",
       "  </tbody>\n",
       "</table>\n",
       "</div>"
      ],
      "text/plain": [
       "      Allele   Peptide    Prediction\n",
       "0  HLA-A0201  SIINFEKL  10672.347656\n",
       "1  HLA-A0201  SIINFEQL   7828.974121"
      ]
     },
     "execution_count": 3,
     "metadata": {},
     "output_type": "execute_result"
    }
   ],
   "source": [
    "mhcflurry.predict(alleles=[\"HLA-A0201\"], peptides=[\"SIINFEKL\", \"SIINFEQL\"])"
   ]
  },
  {
   "cell_type": "markdown",
   "metadata": {},
   "source": [
    " "
   ]
  },
  {
   "cell_type": "markdown",
   "metadata": {},
   "source": [
    "## Instantiating a model"
   ]
  },
  {
   "cell_type": "code",
   "execution_count": 4,
   "metadata": {
    "collapsed": false
   },
   "outputs": [
    {
     "data": {
      "text/plain": [
       "array([ 10672.34765625,  30577.02539062,  10565.78222656], dtype=float32)"
      ]
     },
     "execution_count": 4,
     "metadata": {},
     "output_type": "execute_result"
    }
   ],
   "source": [
    "model = mhcflurry.class1_allele_specific.class1_single_model_multi_allele_predictor.from_allele_name(\"HLA-A0201\")\n",
    "model.predict([\"SIINFEKL\", \"SIQNPEKP\", \"SYNFPEPI\"])\n"
   ]
  },
  {
   "cell_type": "markdown",
   "metadata": {},
   "source": [
    " "
   ]
  },
  {
   "cell_type": "markdown",
   "metadata": {},
   "source": [
    "## Instantiating a model from a custom set of models on disk"
   ]
  },
  {
   "cell_type": "code",
   "execution_count": 5,
   "metadata": {
    "collapsed": false
   },
   "outputs": [
    {
     "data": {
      "text/plain": [
       "'/Users/tim/Library/Application Support/mhcflurry/4/0.1.0/models_class1_allele_specific_single/'"
      ]
     },
     "execution_count": 5,
     "metadata": {},
     "output_type": "execute_result"
    }
   ],
   "source": [
    "models_dir = mhcflurry.downloads.get_path(\"models_class1_allele_specific_single\")\n",
    "models_dir"
   ]
  },
  {
   "cell_type": "code",
   "execution_count": 6,
   "metadata": {
    "collapsed": false
   },
   "outputs": [
    {
     "data": {
      "text/plain": [
       "array([ 10672.34765625,  30577.02539062,  10565.78222656], dtype=float32)"
      ]
     },
     "execution_count": 6,
     "metadata": {},
     "output_type": "execute_result"
    }
   ],
   "source": [
    "# Make a Loader first\n",
    "loader = mhcflurry.Class1SingleModelMultiAllelePredictor.load_from_download_directory(\n",
    "    models_dir)\n",
    "model = loader.predictor_for_allele(\"HLA-A0201\")\n",
    "model.predict([\"SIINFEKL\", \"SIQNPEKP\", \"SYNFPEPI\"])"
   ]
  },
  {
   "cell_type": "markdown",
   "metadata": {},
   "source": [
    " "
   ]
  },
  {
   "cell_type": "markdown",
   "metadata": {},
   "source": [
    "# Loading a `Dataset`"
   ]
  },
  {
   "cell_type": "code",
   "execution_count": 7,
   "metadata": {
    "collapsed": false
   },
   "outputs": [
    {
     "data": {
      "text/plain": [
       "AffinityMeasurementDataset(n=192550, alleles=['ELA-A1', 'Gogo-B0101', 'H-2-DB', 'H-2-DD', 'H-2-KB', 'H-2-KBM8', 'H-2-KD', 'H-2-KK', 'H-2-LD', 'H-2-LQ', 'HLA-A0101', 'HLA-A0201', 'HLA-A0202', 'HLA-A0203', 'HLA-A0204', 'HLA-A0205', 'HLA-A0206', 'HLA-A0207', 'HLA-A0210', 'HLA-A0211', 'HLA-A0212', 'HLA-A0216', 'HLA-A0217', 'HLA-A0219', 'HLA-A0250', 'HLA-A0301', 'HLA-A0302', 'HLA-A0319', 'HLA-A1', 'HLA-A11', 'HLA-A1101', 'HLA-A1102', 'HLA-A2', 'HLA-A2301', 'HLA-A24', 'HLA-A2402', 'HLA-A2403', 'HLA-A2501', 'HLA-A26', 'HLA-A2601', 'HLA-A2602', 'HLA-A2603', 'HLA-A2902', 'HLA-A3', 'HLA-A3/11', 'HLA-A3001', 'HLA-A3002', 'HLA-A3101', 'HLA-A3201', 'HLA-A3207', 'HLA-A3215', 'HLA-A3301', 'HLA-A6601', 'HLA-A6801', 'HLA-A6802', 'HLA-A6823', 'HLA-A6901', 'HLA-A7401', 'HLA-A8001', 'HLA-B0702', 'HLA-B0801', 'HLA-B0802', 'HLA-B0803', 'HLA-B1401', 'HLA-B1402', 'HLA-B1501', 'HLA-B1502', 'HLA-B1503', 'HLA-B1509', 'HLA-B1517', 'HLA-B1542', 'HLA-B1801', 'HLA-B27', 'HLA-B2701', 'HLA-B2702', 'HLA-B2703', 'HLA-B2704', 'HLA-B2705', 'HLA-B2706', 'HLA-B2710', 'HLA-B2720', 'HLA-B3501', 'HLA-B3503', 'HLA-B3508', 'HLA-B3701', 'HLA-B3801', 'HLA-B39', 'HLA-B3901', 'HLA-B40', 'HLA-B4001', 'HLA-B4002', 'HLA-B4013', 'HLA-B4201', 'HLA-B4202', 'HLA-B44', 'HLA-B4402', 'HLA-B4403', 'HLA-B4501', 'HLA-B4506', 'HLA-B4601', 'HLA-B4801', 'HLA-B51', 'HLA-B5101', 'HLA-B5201', 'HLA-B5301', 'HLA-B5401', 'HLA-B5701', 'HLA-B5702', 'HLA-B5703', 'HLA-B58', 'HLA-B5801', 'HLA-B5802', 'HLA-B60', 'HLA-B62', 'HLA-B7', 'HLA-B7301', 'HLA-B8', 'HLA-B8101', 'HLA-B8301', 'HLA-BOLA102101', 'HLA-BOLA200801', 'HLA-BOLA201201', 'HLA-BOLA402401', 'HLA-BOLA601301', 'HLA-BOLA601302', 'HLA-BOLAHD6', 'HLA-C0303', 'HLA-C0401', 'HLA-C0501', 'HLA-C0602', 'HLA-C0702', 'HLA-C0802', 'HLA-C1', 'HLA-C1203', 'HLA-C1402', 'HLA-C1502', 'HLA-C4', 'HLA-E0101', 'HLA-E0103', 'HLA-EQCA100101', 'HLA-RT1A', 'HLA-RT1BL', 'HLA-SLA10401', 'Mamu-A01', 'Mamu-A02', 'Mamu-A07', 'Mamu-A100101', 'Mamu-A100201', 'Mamu-A101101', 'Mamu-A11', 'Mamu-A20102', 'Mamu-A2201', 'Mamu-A2601', 'Mamu-A70103', 'Mamu-B01', 'Mamu-B01704', 'Mamu-B03', 'Mamu-B04', 'Mamu-B06502', 'Mamu-B08', 'Mamu-B1001', 'Mamu-B17', 'Mamu-B3901', 'Mamu-B52', 'Mamu-B6601', 'Mamu-B8301', 'Mamu-B8701', 'Patr-A0101', 'Patr-A0301', 'Patr-A0401', 'Patr-A0602', 'Patr-A0701', 'Patr-A0901', 'Patr-B0101', 'Patr-B0901', 'Patr-B1301', 'Patr-B1701', 'Patr-B2401'])"
      ]
     },
     "execution_count": 7,
     "metadata": {},
     "output_type": "execute_result"
    }
   ],
   "source": [
    "full_training_data = mhcflurry.AffinityMeasurementDataset.from_csv(\n",
    "    mhcflurry.downloads.get_path(\"data_combined_iedb_kim2014\", \"combined_human_class1_dataset.csv\"))\n",
    "full_training_data"
   ]
  },
  {
   "cell_type": "code",
   "execution_count": 8,
   "metadata": {
    "collapsed": false
   },
   "outputs": [
    {
     "data": {
      "text/plain": [
       "(179692, 137654, 27680)"
      ]
     },
     "execution_count": 8,
     "metadata": {},
     "output_type": "execute_result"
    }
   ],
   "source": [
    "kim2014_full = mhcflurry.AffinityMeasurementDataset.from_csv(\n",
    "    mhcflurry.downloads.get_path(\"data_kim2014\", \"bdata.20130222.mhci.public.1.txt\"))\n",
    "\n",
    "kim2014_train = mhcflurry.AffinityMeasurementDataset.from_csv(\n",
    "    mhcflurry.downloads.get_path(\"data_kim2014\", \"bdata.2009.mhci.public.1.txt\"))\n",
    "kim2014_test = mhcflurry.AffinityMeasurementDataset.from_csv(\n",
    "    mhcflurry.downloads.get_path(\"data_kim2014\", \"bdata.2013.mhci.public.blind.1.txt\"))\n",
    "\n",
    "len(kim2014_full), len(kim2014_train), len(kim2014_test)"
   ]
  },
  {
   "cell_type": "markdown",
   "metadata": {},
   "source": [
    " "
   ]
  },
  {
   "cell_type": "markdown",
   "metadata": {},
   "source": [
    "# Predicting affinities from a `Dataset`\n"
   ]
  },
  {
   "cell_type": "code",
   "execution_count": 9,
   "metadata": {
    "collapsed": false
   },
   "outputs": [
    {
     "data": {
      "text/plain": [
       "array([  3514.14550781,  12429.5390625 ,   4227.02197266, ...,\n",
       "         5949.32763672,  17837.0859375 ,   6724.96728516], dtype=float32)"
      ]
     },
     "execution_count": 9,
     "metadata": {},
     "output_type": "execute_result"
    }
   ],
   "source": [
    "model = loader.predictor_for_allele(\"HLA-A0201\")\n",
    "model.predict(kim2014_train.get_allele(\"HLA-A0201\").peptides)\n"
   ]
  },
  {
   "cell_type": "markdown",
   "metadata": {},
   "source": [
    " "
   ]
  },
  {
   "cell_type": "markdown",
   "metadata": {},
   "source": [
    "# Fit a model"
   ]
  },
  {
   "cell_type": "code",
   "execution_count": 10,
   "metadata": {
    "collapsed": false
   },
   "outputs": [
    {
     "name": "stdout",
     "output_type": "stream",
     "text": [
      "Help on class Class1BindingPredictor in module mhcflurry.class1_allele_specific.class1_binding_predictor:\n",
      "\n",
      "class Class1BindingPredictor(mhcflurry.class1_allele_specific.class1_allele_specific_kmer_ic50_predictor_base.Class1AlleleSpecificKmerIC50PredictorBase)\n",
      " |  Allele-specific Class I MHC binding predictor which uses\n",
      " |  fixed-length (k-mer) index encoding for inputs and outputs\n",
      " |  a value between 0 and 1 (where 1 is the strongest binder).\n",
      " |  \n",
      " |  Method resolution order:\n",
      " |      Class1BindingPredictor\n",
      " |      mhcflurry.class1_allele_specific.class1_allele_specific_kmer_ic50_predictor_base.Class1AlleleSpecificKmerIC50PredictorBase\n",
      " |      mhcflurry.ic50_predictor_base.IC50PredictorBase\n",
      " |      builtins.object\n",
      " |  \n",
      " |  Methods defined here:\n",
      " |  \n",
      " |  __getstate__(self)\n",
      " |  \n",
      " |  __init__(self, model=None, name=None, max_ic50=50000.0, allow_unknown_amino_acids=True, kmer_size=9, n_amino_acids=20, verbose=False, **hyperparameters)\n",
      " |      Initialize self.  See help(type(self)) for accurate signature.\n",
      " |  \n",
      " |  __setstate__(self, state)\n",
      " |  \n",
      " |  fit_kmer_encoded_arrays(self, X, ic50, sample_weights=None, right_censoring_mask=None, X_pretrain=None, ic50_pretrain=None, sample_weights_pretrain=None, n_random_negative_samples=None, pretrain_decay=None, n_training_epochs=None, batch_size=None, verbose=False)\n",
      " |      Train predictive model from index encoding of fixed length k-mer\n",
      " |      peptides.\n",
      " |      \n",
      " |      Parameters\n",
      " |      ----------\n",
      " |      X : array\n",
      " |          Training data with shape (n_samples, n_dims)\n",
      " |      \n",
      " |      ic50 : array\n",
      " |          Training IC50 values with shape (n_samples,)\n",
      " |      \n",
      " |      sample_weights : array\n",
      " |          Weight of each training sample with shape (n_samples,)\n",
      " |      \n",
      " |      right_censoring_mask : array, optional\n",
      " |          Boolean array which indicates whether each IC50 value is actually\n",
      " |          right censored (a lower bound on the true value). Censored values\n",
      " |          are transformed during training by sampling between the observed\n",
      " |          and maximum values on each iteration.\n",
      " |      \n",
      " |      X_pretrain : array\n",
      " |          Extra samples used for soft pretraining of the predictor,\n",
      " |          should have same number of dimensions as X.\n",
      " |          During training the weights of these samples will decay after\n",
      " |          each epoch.\n",
      " |      \n",
      " |      ic50_pretrain : array\n",
      " |          IC50 values for extra samples, shape\n",
      " |      \n",
      " |      pretrain_decay : int -> float function\n",
      " |          decay function for pretraining, mapping epoch number to decay\n",
      " |          factor\n",
      " |      \n",
      " |      sample_weights_pretrain : array\n",
      " |          Initial weights for the rows of X_pretrain. If not specified then\n",
      " |          initialized to ones.\n",
      " |      \n",
      " |      n_random_negative_samples : int\n",
      " |          Number of random samples to generate as negative examples.\n",
      " |      \n",
      " |      n_training_epochs : int\n",
      " |      \n",
      " |      verbose : bool\n",
      " |      \n",
      " |      batch_size : int\n",
      " |  \n",
      " |  get_weights(self)\n",
      " |      Returns weights, which can be passed to set_weights later.\n",
      " |  \n",
      " |  predict_ic50_for_kmer_encoded_array(self, X)\n",
      " |      Given an encoded array of amino acid indices,\n",
      " |      returns a vector of IC50 predictions.\n",
      " |  \n",
      " |  predict_scores_for_kmer_encoded_array(self, X)\n",
      " |      Given an encoded array of amino acid indices, returns a vector\n",
      " |      of affinity scores (values between 0 and 1).\n",
      " |  \n",
      " |  set_weights(self, weights)\n",
      " |      Reset the model weights.\n",
      " |  \n",
      " |  ----------------------------------------------------------------------\n",
      " |  Data and other attributes defined here:\n",
      " |  \n",
      " |  fit_hyperparameter_defaults = <mhcflurry.hyperparameters.Hyperparamete...\n",
      " |  \n",
      " |  hyperparameter_defaults = <mhcflurry.hyperparameters.HyperparameterDef...\n",
      " |  \n",
      " |  network_hyperparameter_defaults = <mhcflurry.hyperparameters.Hyperpara...\n",
      " |  \n",
      " |  ----------------------------------------------------------------------\n",
      " |  Methods inherited from mhcflurry.class1_allele_specific.class1_allele_specific_kmer_ic50_predictor_base.Class1AlleleSpecificKmerIC50PredictorBase:\n",
      " |  \n",
      " |  __repr__(self)\n",
      " |      Return repr(self).\n",
      " |  \n",
      " |  __str__(self)\n",
      " |      Return str(self).\n",
      " |  \n",
      " |  encode_peptides(self, peptides)\n",
      " |  \n",
      " |  fit_dataset(self, dataset, pretraining_dataset=None, sample_censored_affinities=False, **kwargs)\n",
      " |      Fit the model parameters on the given training data.\n",
      " |      \n",
      " |      Parameters\n",
      " |      ----------\n",
      " |      dataset : AffinityMeasurementDataset\n",
      " |      \n",
      " |      pretraining_dataset : AffinityMeasurementDataset\n",
      " |      \n",
      " |      sample_censored_affinities : bool\n",
      " |          If a column named 'inequality' is in the AffinityMeasurementDataset then every\n",
      " |          peptide with a value of '>' on each training epoch, gets a\n",
      " |          randomly sampled IC50 between its observed value and the\n",
      " |          max_ic50 of the predictor. Default is False.\n",
      " |      \n",
      " |      **kwargs : dict\n",
      " |          Extra arguments are passed on to the fit_encoded_kmer_arrays()\n",
      " |          method.\n",
      " |  \n",
      " |  predict_scores(self, peptides)\n",
      " |      Given a list of peptides of any length, returns an array of predicted\n",
      " |      normalized affinity values. Unlike IC50, a higher value here\n",
      " |      means a stronger affinity. Peptides of lengths other than 9 are\n",
      " |      transformed into a set of k-mers either by deleting or inserting\n",
      " |      amino acid characters. The prediction for a single peptides will be\n",
      " |      the average of expanded k-mers.\n",
      " |  \n",
      " |  ----------------------------------------------------------------------\n",
      " |  Data descriptors inherited from mhcflurry.class1_allele_specific.class1_allele_specific_kmer_ic50_predictor_base.Class1AlleleSpecificKmerIC50PredictorBase:\n",
      " |  \n",
      " |  amino_acids\n",
      " |      Amino acid alphabet used for encoding peptides, may include\n",
      " |      \"X\" if allow_unknown_amino_acids is True.\n",
      " |  \n",
      " |  max_amino_acid_encoding_value\n",
      " |  \n",
      " |  ----------------------------------------------------------------------\n",
      " |  Methods inherited from mhcflurry.ic50_predictor_base.IC50PredictorBase:\n",
      " |  \n",
      " |  fit_dictionary(self, peptide_to_ic50_dict, **kwargs)\n",
      " |      Fit the model parameters using the given peptide->IC50 dictionary,\n",
      " |      all samples are given the same weight.\n",
      " |      \n",
      " |      Parameters\n",
      " |      ----------\n",
      " |      peptide_to_ic50_dict : dict\n",
      " |          Dictionary that maps peptides to IC50 values.\n",
      " |  \n",
      " |  fit_sequences(self, peptides, affinities, sample_weights=None, alleles=None, **kwargs)\n",
      " |  \n",
      " |  predict(self, peptides)\n",
      " |      Predict IC50 affinities for peptides of any length\n",
      " |  \n",
      " |  ----------------------------------------------------------------------\n",
      " |  Data descriptors inherited from mhcflurry.ic50_predictor_base.IC50PredictorBase:\n",
      " |  \n",
      " |  __dict__\n",
      " |      dictionary for instance variables (if defined)\n",
      " |  \n",
      " |  __weakref__\n",
      " |      list of weak references to the object (if defined)\n",
      "\n"
     ]
    }
   ],
   "source": [
    "help(mhcflurry.class1_allele_specific.Class1BindingPredictor)"
   ]
  },
  {
   "cell_type": "code",
   "execution_count": 11,
   "metadata": {
    "collapsed": false
   },
   "outputs": [
    {
     "data": {
      "text/plain": [
       "AffinityMeasurementDataset(n=3040, alleles=['HLA-A3301'])"
      ]
     },
     "execution_count": 11,
     "metadata": {},
     "output_type": "execute_result"
    }
   ],
   "source": [
    "train_data = kim2014_train.get_allele(\"HLA-A3301\")\n",
    "train_data"
   ]
  },
  {
   "cell_type": "code",
   "execution_count": 12,
   "metadata": {
    "collapsed": false
   },
   "outputs": [
    {
     "data": {
      "text/plain": [
       "{'activation': 'tanh',\n",
       " 'batch_normalization': True,\n",
       " 'batch_size': 128,\n",
       " 'dropout_probability': 0.0,\n",
       " 'embedding_output_dim': 32,\n",
       " 'fraction_negative': 0.0,\n",
       " 'init': 'glorot_uniform',\n",
       " 'kmer_size': 9,\n",
       " 'layer_sizes': [64],\n",
       " 'loss': 'mse',\n",
       " 'max_ic50': 50000.0,\n",
       " 'n_training_epochs': 250,\n",
       " 'optimizer': 'rmsprop',\n",
       " 'output_activation': 'sigmoid',\n",
       " 'pretrain_decay': 'numpy.exp(-epoch)'}"
      ]
     },
     "execution_count": 12,
     "metadata": {},
     "output_type": "execute_result"
    }
   ],
   "source": [
    "# We'll use the default hyper parameters here. Could also specify them as kwargs:\n",
    "new_model = mhcflurry.class1_allele_specific.Class1BindingPredictor()\n",
    "new_model.hyperparameters"
   ]
  },
  {
   "cell_type": "code",
   "execution_count": 13,
   "metadata": {
    "collapsed": false
   },
   "outputs": [
    {
     "name": "stdout",
     "output_type": "stream",
     "text": [
      "CPU times: user 1min 11s, sys: 5.66 s, total: 1min 16s\n",
      "Wall time: 1min 12s\n"
     ]
    }
   ],
   "source": [
    "# This will run faster if you have a GPU.\n",
    "%time new_model.fit_dataset(train_data)"
   ]
  },
  {
   "cell_type": "markdown",
   "metadata": {},
   "source": [
    " "
   ]
  },
  {
   "cell_type": "markdown",
   "metadata": {},
   "source": [
    "## Evaluate the fit model on held-out test data"
   ]
  },
  {
   "cell_type": "markdown",
   "metadata": {},
   "source": [
    "### Generate predictions"
   ]
  },
  {
   "cell_type": "code",
   "execution_count": 14,
   "metadata": {
    "collapsed": false
   },
   "outputs": [
    {
     "data": {
      "text/plain": [
       "<matplotlib.text.Text at 0x121829dd8>"
      ]
     },
     "execution_count": 14,
     "metadata": {},
     "output_type": "execute_result"
    },
    {
     "data": {
      "image/png": "[encoded data removed]",
      "text/plain": [
       "<matplotlib.figure.Figure at 0x11d2d7da0>"
      ]
     },
     "metadata": {},
     "output_type": "display_data"
    }
   ],
   "source": [
    "test_data = kim2014_test.get_allele(\"HLA-A3301\")\n",
    "predictions = new_model.predict(test_data.peptides)\n",
    "\n",
    "seaborn.set_context('notebook')\n",
    "seaborn.regplot(numpy.log10(test_data.affinities), numpy.log10(predictions))\n",
    "pyplot.xlim(xmin=0)\n",
    "pyplot.ylim(ymin=0)\n",
    "pyplot.xlabel(\"Measured affinity (log10 nM)\")\n",
    "pyplot.ylabel(\"Predicted affinity (log10 nM)\")\n",
    "pyplot.title(\"MHCflurry on test data\")"
   ]
  },
  {
   "cell_type": "markdown",
   "metadata": {},
   "source": [
    " "
   ]
  },
  {
   "cell_type": "markdown",
   "metadata": {},
   "source": [
    "### Calculate AUC, F1, and Kendall's Tau scores"
   ]
  },
  {
   "cell_type": "code",
   "execution_count": 15,
   "metadata": {
    "collapsed": false
   },
   "outputs": [
    {
     "name": "stdout",
     "output_type": "stream",
     "text": [
      "Help on function make_scores in module mhcflurry.class1_allele_specific.scoring:\n",
      "\n",
      "make_scores(ic50_y, ic50_y_pred, sample_weight=None, threshold_nm=500, max_ic50=50000)\n",
      "    Calculate AUC, F1, and Kendall Tau scores.\n",
      "    \n",
      "    Parameters\n",
      "    -----------\n",
      "    ic50_y : float list\n",
      "        true IC50s (i.e. affinities)\n",
      "    \n",
      "    ic50_y_pred : float list\n",
      "        predicted IC50s\n",
      "    \n",
      "    sample_weight : float list [optional]\n",
      "    \n",
      "    threshold_nm : float [optional]\n",
      "    \n",
      "    max_ic50 : float [optional]\n",
      "    \n",
      "    Returns\n",
      "    -----------\n",
      "    dict with entries \"auc\", \"f1\", \"tau\"\n",
      "\n"
     ]
    }
   ],
   "source": [
    "help(mhcflurry.class1_allele_specific.scoring.make_scores)"
   ]
  },
  {
   "cell_type": "code",
   "execution_count": 16,
   "metadata": {
    "collapsed": false
   },
   "outputs": [
    {
     "data": {
      "text/plain": [
       "{'auc': 0.88567942942942945,\n",
       " 'f1': 0.73814432989690715,\n",
       " 'tau': 0.4912073299323329}"
      ]
     },
     "execution_count": 16,
     "metadata": {},
     "output_type": "execute_result"
    }
   ],
   "source": [
    "mhcflurry.class1_allele_specific.scoring.make_scores(test_data.affinities, predictions)"
   ]
  },
  {
   "cell_type": "markdown",
   "metadata": {},
   "source": [
    " "
   ]
  },
  {
   "cell_type": "markdown",
   "metadata": {},
   "source": [
    "## Cross validation for hyperparameter selection"
   ]
  },
  {
   "cell_type": "code",
   "execution_count": 17,
   "metadata": {
    "collapsed": false
   },
   "outputs": [
    {
     "name": "stdout",
     "output_type": "stream",
     "text": [
      "Help on function cross_validation_folds in module mhcflurry.class1_allele_specific.cross_validation:\n",
      "\n",
      "cross_validation_folds(train_data, alleles=None, n_folds=3, drop_similar_peptides=False, imputer=None, impute_kwargs={'min_observations_per_allele': 2, 'min_observations_per_peptide': 2}, parallel_backend=None)\n",
      "    Split a AffinityMeasurementDataset into n_folds cross validation folds for each allele,\n",
      "    optionally performing imputation.\n",
      "    \n",
      "    Parameters\n",
      "    -----------\n",
      "    train_data : mhcflurry.AffinityMeasurementDataset\n",
      "    \n",
      "    alleles : string list, optional\n",
      "        Alleles to run cross validation on. Default: all alleles in\n",
      "        train_data.\n",
      "    \n",
      "    n_folds : int, optional\n",
      "        Number of cross validation folds for each allele.\n",
      "    \n",
      "    drop_similar_peptides : boolean, optional\n",
      "        For each fold, remove peptides from the test data that are similar\n",
      "        to peptides in the train data. Similarity is defined as in the\n",
      "        similar_peptides function.\n",
      "    \n",
      "    imputer : fancyimpute.Solver, optional\n",
      "        Imputer to use. If not specified, no imputation is done.\n",
      "    \n",
      "    impute_kwargs : dict, optional\n",
      "        Additional kwargs to pass to mhcflurry.AffinityMeasurementDataset.impute_missing_values.\n",
      "    \n",
      "    parallel_backend : mhcflurry.parallelism.ParallelBackend, optional\n",
      "        Futures implementation to use for running on multiple threads,\n",
      "        processes, or nodes\n",
      "    \n",
      "    Returns\n",
      "    -----------\n",
      "    list of AlleleSpecificTrainTestFold of length num alleles * n_folds\n",
      "\n"
     ]
    }
   ],
   "source": [
    "help(mhcflurry.class1_allele_specific.cross_validation.cross_validation_folds)"
   ]
  },
  {
   "cell_type": "code",
   "execution_count": 18,
   "metadata": {
    "collapsed": false
   },
   "outputs": [
    {
     "data": {
      "text/plain": [
       "[AlleleSpecificTrainTestFold(allele='HLA-A3301', train=AffinityMeasurementDataset(n=2026, alleles=['HLA-A3301']), imputed_train=None, test=AffinityMeasurementDataset(n=1014, alleles=['HLA-A3301'])),\n",
       " AlleleSpecificTrainTestFold(allele='HLA-A3301', train=AffinityMeasurementDataset(n=2027, alleles=['HLA-A3301']), imputed_train=None, test=AffinityMeasurementDataset(n=1013, alleles=['HLA-A3301'])),\n",
       " AlleleSpecificTrainTestFold(allele='HLA-A3301', train=AffinityMeasurementDataset(n=2027, alleles=['HLA-A3301']), imputed_train=None, test=AffinityMeasurementDataset(n=1013, alleles=['HLA-A3301']))]"
      ]
     },
     "execution_count": 18,
     "metadata": {},
     "output_type": "execute_result"
    }
   ],
   "source": [
    "folds = mhcflurry.class1_allele_specific.cross_validation.cross_validation_folds(train_data)\n",
    "folds"
   ]
  },
  {
   "cell_type": "code",
   "execution_count": 19,
   "metadata": {
    "collapsed": false
   },
   "outputs": [
    {
     "data": {
      "text/plain": [
       "{'activation': 'tanh',\n",
       " 'batch_normalization': True,\n",
       " 'batch_size': 128,\n",
       " 'dropout_probability': 0.0,\n",
       " 'embedding_output_dim': 32,\n",
       " 'fraction_negative': 0.0,\n",
       " 'impute': False,\n",
       " 'init': 'glorot_uniform',\n",
       " 'kmer_size': 9,\n",
       " 'layer_sizes': [64],\n",
       " 'loss': 'mse',\n",
       " 'max_ic50': 50000.0,\n",
       " 'n_training_epochs': 250,\n",
       " 'optimizer': 'rmsprop',\n",
       " 'output_activation': 'sigmoid',\n",
       " 'pretrain_decay': 'numpy.exp(-epoch)'}"
      ]
     },
     "execution_count": 19,
     "metadata": {},
     "output_type": "execute_result"
    }
   ],
   "source": [
    "# Take a look at what hyperparameters are available for searching over.\n",
    "mhcflurry.class1_allele_specific.train.HYPERPARAMETER_DEFAULTS.defaults"
   ]
  },
  {
   "cell_type": "code",
   "execution_count": 20,
   "metadata": {
    "collapsed": false
   },
   "outputs": [
    {
     "name": "stdout",
     "output_type": "stream",
     "text": [
      "Searching over 2 models.\n",
      "First model: \n",
      "{'kmer_size': 9, 'n_training_epochs': 250, 'loss': 'mse', 'max_ic50': 50000.0, 'fraction_negative': 0.1, 'layer_sizes': [8], 'batch_size': 128, 'activation': 'tanh', 'init': 'glorot_uniform', 'dropout_probability': 0.0, 'pretrain_decay': 'numpy.exp(-epoch)', 'optimizer': 'rmsprop', 'impute': False, 'embedding_output_dim': 32, 'batch_normalization': True, 'output_activation': 'sigmoid'}\n"
     ]
    }
   ],
   "source": [
    "models_to_search = mhcflurry.class1_allele_specific.train.HYPERPARAMETER_DEFAULTS.models_grid(\n",
    "    fraction_negative=[.1],\n",
    "    layer_sizes=[[8], [12]])\n",
    "print(\"Searching over %d models.\" % len(models_to_search))\n",
    "print(\"First model: \\n%s\" % models_to_search[0])"
   ]
  },
  {
   "cell_type": "code",
   "execution_count": 21,
   "metadata": {
    "collapsed": false
   },
   "outputs": [
    {
     "name": "stdout",
     "output_type": "stream",
     "text": [
      "Help on function train_across_models_and_folds in module mhcflurry.class1_allele_specific.train:\n",
      "\n",
      "train_across_models_and_folds(folds, model_descriptions, cartesian_product_of_folds_and_models=True, return_predictors=False, folds_per_task=1, parallel_backend=None)\n",
      "    Train and optionally test any number of models across any number of folds.\n",
      "    \n",
      "    Parameters\n",
      "    -----------\n",
      "    folds : list of AlleleSpecificTrainTestFold\n",
      "    \n",
      "    model_descriptions : list of dict\n",
      "        Models to test\n",
      "    \n",
      "    cartesian_product_of_folds_and_models : boolean, optional\n",
      "        If true, then a predictor is treained for each fold and model\n",
      "        description.\n",
      "        If false, then len(folds) must equal len(model_descriptions), and\n",
      "        the i'th model is trained on the i'th fold.\n",
      "    \n",
      "    return_predictors : boolean, optional\n",
      "        Include the trained predictors in the result.\n",
      "    \n",
      "    parallel_backend : mhcflurry.parallelism.ParallelBackend, optional\n",
      "        Futures implementation to use for running on multiple threads,\n",
      "        processes, or nodes\n",
      "    \n",
      "    Returns\n",
      "    -----------\n",
      "    pandas.DataFrame\n",
      "\n"
     ]
    }
   ],
   "source": [
    "help(mhcflurry.class1_allele_specific.train.train_across_models_and_folds)"
   ]
  },
  {
   "cell_type": "code",
   "execution_count": 22,
   "metadata": {
    "collapsed": false
   },
   "outputs": [
    {
     "data": {
      "text/html": [
       "<div>\n",
       "<table border=\"1\" class=\"dataframe\">\n",
       "  <thead>\n",
       "    <tr style=\"text-align: right;\">\n",
       "      <th></th>\n",
       "      <th>allele</th>\n",
       "      <th>fold_num</th>\n",
       "      <th>model_num</th>\n",
       "      <th>train_size</th>\n",
       "      <th>test_size</th>\n",
       "      <th>imputed_train_size</th>\n",
       "      <th>train_tau</th>\n",
       "      <th>train_f1</th>\n",
       "      <th>train_auc</th>\n",
       "      <th>test_tau</th>\n",
       "      <th>...</th>\n",
       "      <th>model_batch_size</th>\n",
       "      <th>model_activation</th>\n",
       "      <th>model_init</th>\n",
       "      <th>model_dropout_probability</th>\n",
       "      <th>model_pretrain_decay</th>\n",
       "      <th>model_optimizer</th>\n",
       "      <th>model_impute</th>\n",
       "      <th>model_embedding_output_dim</th>\n",
       "      <th>model_batch_normalization</th>\n",
       "      <th>model_output_activation</th>\n",
       "    </tr>\n",
       "  </thead>\n",
       "  <tbody>\n",
       "    <tr>\n",
       "      <th>0</th>\n",
       "      <td>HLA-A3301</td>\n",
       "      <td>0</td>\n",
       "      <td>0</td>\n",
       "      <td>2026</td>\n",
       "      <td>1014</td>\n",
       "      <td>None</td>\n",
       "      <td>0.705331</td>\n",
       "      <td>0.887640</td>\n",
       "      <td>0.988062</td>\n",
       "      <td>0.408410</td>\n",
       "      <td>...</td>\n",
       "      <td>128</td>\n",
       "      <td>tanh</td>\n",
       "      <td>glorot_uniform</td>\n",
       "      <td>0.0</td>\n",
       "      <td>numpy.exp(-epoch)</td>\n",
       "      <td>rmsprop</td>\n",
       "      <td>False</td>\n",
       "      <td>32</td>\n",
       "      <td>True</td>\n",
       "      <td>sigmoid</td>\n",
       "    </tr>\n",
       "    <tr>\n",
       "      <th>1</th>\n",
       "      <td>HLA-A3301</td>\n",
       "      <td>0</td>\n",
       "      <td>1</td>\n",
       "      <td>2026</td>\n",
       "      <td>1014</td>\n",
       "      <td>None</td>\n",
       "      <td>0.743330</td>\n",
       "      <td>0.907407</td>\n",
       "      <td>0.994428</td>\n",
       "      <td>0.425253</td>\n",
       "      <td>...</td>\n",
       "      <td>128</td>\n",
       "      <td>tanh</td>\n",
       "      <td>glorot_uniform</td>\n",
       "      <td>0.0</td>\n",
       "      <td>numpy.exp(-epoch)</td>\n",
       "      <td>rmsprop</td>\n",
       "      <td>False</td>\n",
       "      <td>32</td>\n",
       "      <td>True</td>\n",
       "      <td>sigmoid</td>\n",
       "    </tr>\n",
       "    <tr>\n",
       "      <th>2</th>\n",
       "      <td>HLA-A3301</td>\n",
       "      <td>1</td>\n",
       "      <td>0</td>\n",
       "      <td>2027</td>\n",
       "      <td>1013</td>\n",
       "      <td>None</td>\n",
       "      <td>0.698517</td>\n",
       "      <td>0.877470</td>\n",
       "      <td>0.990193</td>\n",
       "      <td>0.434371</td>\n",
       "      <td>...</td>\n",
       "      <td>128</td>\n",
       "      <td>tanh</td>\n",
       "      <td>glorot_uniform</td>\n",
       "      <td>0.0</td>\n",
       "      <td>numpy.exp(-epoch)</td>\n",
       "      <td>rmsprop</td>\n",
       "      <td>False</td>\n",
       "      <td>32</td>\n",
       "      <td>True</td>\n",
       "      <td>sigmoid</td>\n",
       "    </tr>\n",
       "    <tr>\n",
       "      <th>3</th>\n",
       "      <td>HLA-A3301</td>\n",
       "      <td>1</td>\n",
       "      <td>1</td>\n",
       "      <td>2027</td>\n",
       "      <td>1013</td>\n",
       "      <td>None</td>\n",
       "      <td>0.745956</td>\n",
       "      <td>0.874227</td>\n",
       "      <td>0.994672</td>\n",
       "      <td>0.444289</td>\n",
       "      <td>...</td>\n",
       "      <td>128</td>\n",
       "      <td>tanh</td>\n",
       "      <td>glorot_uniform</td>\n",
       "      <td>0.0</td>\n",
       "      <td>numpy.exp(-epoch)</td>\n",
       "      <td>rmsprop</td>\n",
       "      <td>False</td>\n",
       "      <td>32</td>\n",
       "      <td>True</td>\n",
       "      <td>sigmoid</td>\n",
       "    </tr>\n",
       "    <tr>\n",
       "      <th>4</th>\n",
       "      <td>HLA-A3301</td>\n",
       "      <td>2</td>\n",
       "      <td>0</td>\n",
       "      <td>2027</td>\n",
       "      <td>1013</td>\n",
       "      <td>None</td>\n",
       "      <td>0.703742</td>\n",
       "      <td>0.859961</td>\n",
       "      <td>0.988574</td>\n",
       "      <td>0.440792</td>\n",
       "      <td>...</td>\n",
       "      <td>128</td>\n",
       "      <td>tanh</td>\n",
       "      <td>glorot_uniform</td>\n",
       "      <td>0.0</td>\n",
       "      <td>numpy.exp(-epoch)</td>\n",
       "      <td>rmsprop</td>\n",
       "      <td>False</td>\n",
       "      <td>32</td>\n",
       "      <td>True</td>\n",
       "      <td>sigmoid</td>\n",
       "    </tr>\n",
       "    <tr>\n",
       "      <th>5</th>\n",
       "      <td>HLA-A3301</td>\n",
       "      <td>2</td>\n",
       "      <td>1</td>\n",
       "      <td>2027</td>\n",
       "      <td>1013</td>\n",
       "      <td>None</td>\n",
       "      <td>0.741095</td>\n",
       "      <td>0.912801</td>\n",
       "      <td>0.993722</td>\n",
       "      <td>0.443505</td>\n",
       "      <td>...</td>\n",
       "      <td>128</td>\n",
       "      <td>tanh</td>\n",
       "      <td>glorot_uniform</td>\n",
       "      <td>0.0</td>\n",
       "      <td>numpy.exp(-epoch)</td>\n",
       "      <td>rmsprop</td>\n",
       "      <td>False</td>\n",
       "      <td>32</td>\n",
       "      <td>True</td>\n",
       "      <td>sigmoid</td>\n",
       "    </tr>\n",
       "  </tbody>\n",
       "</table>\n",
       "<p>6 rows × 31 columns</p>\n",
       "</div>"
      ],
      "text/plain": [
       "      allele  fold_num  model_num  train_size  test_size imputed_train_size  \\\n",
       "0  HLA-A3301         0          0        2026       1014               None   \n",
       "1  HLA-A3301         0          1        2026       1014               None   \n",
       "2  HLA-A3301         1          0        2027       1013               None   \n",
       "3  HLA-A3301         1          1        2027       1013               None   \n",
       "4  HLA-A3301         2          0        2027       1013               None   \n",
       "5  HLA-A3301         2          1        2027       1013               None   \n",
       "\n",
       "   train_tau  train_f1  train_auc  test_tau           ...             \\\n",
       "0   0.705331  0.887640   0.988062  0.408410           ...              \n",
       "1   0.743330  0.907407   0.994428  0.425253           ...              \n",
       "2   0.698517  0.877470   0.990193  0.434371           ...              \n",
       "3   0.745956  0.874227   0.994672  0.444289           ...              \n",
       "4   0.703742  0.859961   0.988574  0.440792           ...              \n",
       "5   0.741095  0.912801   0.993722  0.443505           ...              \n",
       "\n",
       "   model_batch_size  model_activation      model_init  \\\n",
       "0               128              tanh  glorot_uniform   \n",
       "1               128              tanh  glorot_uniform   \n",
       "2               128              tanh  glorot_uniform   \n",
       "3               128              tanh  glorot_uniform   \n",
       "4               128              tanh  glorot_uniform   \n",
       "5               128              tanh  glorot_uniform   \n",
       "\n",
       "  model_dropout_probability model_pretrain_decay  model_optimizer  \\\n",
       "0                       0.0    numpy.exp(-epoch)          rmsprop   \n",
       "1                       0.0    numpy.exp(-epoch)          rmsprop   \n",
       "2                       0.0    numpy.exp(-epoch)          rmsprop   \n",
       "3                       0.0    numpy.exp(-epoch)          rmsprop   \n",
       "4                       0.0    numpy.exp(-epoch)          rmsprop   \n",
       "5                       0.0    numpy.exp(-epoch)          rmsprop   \n",
       "\n",
       "   model_impute model_embedding_output_dim  model_batch_normalization  \\\n",
       "0         False                         32                       True   \n",
       "1         False                         32                       True   \n",
       "2         False                         32                       True   \n",
       "3         False                         32                       True   \n",
       "4         False                         32                       True   \n",
       "5         False                         32                       True   \n",
       "\n",
       "   model_output_activation  \n",
       "0                  sigmoid  \n",
       "1                  sigmoid  \n",
       "2                  sigmoid  \n",
       "3                  sigmoid  \n",
       "4                  sigmoid  \n",
       "5                  sigmoid  \n",
       "\n",
       "[6 rows x 31 columns]"
      ]
     },
     "execution_count": 22,
     "metadata": {},
     "output_type": "execute_result"
    }
   ],
   "source": [
    "results_df = mhcflurry.class1_allele_specific.train.train_across_models_and_folds(\n",
    "    folds,\n",
    "    models_to_search,\n",
    "    return_predictors=True)\n",
    "results_df"
   ]
  },
  {
   "cell_type": "code",
   "execution_count": 23,
   "metadata": {
    "collapsed": false
   },
   "outputs": [
    {
     "data": {
      "text/plain": [
       "0    Class1BindingPredictor(name=None, max_ic50=500...\n",
       "1    Class1BindingPredictor(name=None, max_ic50=500...\n",
       "2    Class1BindingPredictor(name=None, max_ic50=500...\n",
       "3    Class1BindingPredictor(name=None, max_ic50=500...\n",
       "4    Class1BindingPredictor(name=None, max_ic50=500...\n",
       "5    Class1BindingPredictor(name=None, max_ic50=500...\n",
       "Name: predictor, dtype: object"
      ]
     },
     "execution_count": 23,
     "metadata": {},
     "output_type": "execute_result"
    }
   ],
   "source": [
    "# The trained predictors are in the 'predictor' column\n",
    "results_df.predictor"
   ]
  },
  {
   "cell_type": "code",
   "execution_count": 24,
   "metadata": {
    "collapsed": false
   },
   "outputs": [
    {
     "data": {
      "text/plain": [
       "model_num\n",
       "0    0.841541\n",
       "1    0.849979\n",
       "Name: test_auc, dtype: float64"
      ]
     },
     "execution_count": 24,
     "metadata": {},
     "output_type": "execute_result"
    }
   ],
   "source": [
    "# Which model had the best average AUC across folds?\n",
    "results_df.groupby(\"model_num\").test_auc.mean()"
   ]
  }
 ],
 "metadata": {
  "anaconda-cloud": {},
  "kernelspec": {
   "display_name": "Python [py3k]",
   "language": "python",
   "name": "Python [py3k]"
  },
  "language_info": {
   "codemirror_mode": {
    "name": "ipython",
    "version": 3
   },
   "file_extension": ".py",
   "mimetype": "text/x-python",
   "name": "python",
   "nbconvert_exporter": "python",
   "pygments_lexer": "ipython3",
   "version": "3.5.2"
  }
 },
 "nbformat": 4,
 "nbformat_minor": 0
}
